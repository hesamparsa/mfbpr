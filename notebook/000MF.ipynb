{
 "cells": [
  {
   "cell_type": "code",
   "execution_count": 1,
   "metadata": {},
   "outputs": [],
   "source": [
    "import urllib.request\n",
    "import zipfile\n",
    "import pandas as pd\n",
    "import matplotlib.pyplot as plt\n",
    "import numpy as np\n",
    "import os\n",
    "import sys\n",
    "import torch\n",
    "import torch.nn as nn\n",
    "import time\n",
    "from torch.utils.data import Dataset, DataLoader"
   ]
  },
  {
   "cell_type": "code",
   "execution_count": 2,
   "metadata": {},
   "outputs": [],
   "source": [
    "module_path = \"...\"\n",
    "if module_path not in sys.path:\n",
    "    sys.path.append(module_path)"
   ]
  },
  {
   "cell_type": "code",
   "execution_count": 3,
   "metadata": {},
   "outputs": [],
   "source": [
    "from script import data_utils, helper_utils"
   ]
  },
  {
   "cell_type": "code",
   "execution_count": 4,
   "metadata": {},
   "outputs": [],
   "source": [
    "data_path = module_path + '/data/ml-100k/'\n",
    "delimiter ='\\t'\n",
    "col_names=['user_id', 'item_id', 'rating', 'timestamp']\n",
    "url = 'http://files.grouplens.org/datasets/movielens/ml-100k.zip'  \n",
    "\n",
    "# Hyper parameters\n",
    "num_epochs = 5\n",
    "batch_size = 256\n",
    "lr = 0.002\n",
    "num_factors = 30\n",
    "wd=1e-5\n",
    "device = torch.device('cuda' if torch.cuda.is_available() else 'cpu')"
   ]
  },
  {
   "cell_type": "code",
   "execution_count": 5,
   "metadata": {},
   "outputs": [],
   "source": [
    "%load_ext autoreload\n",
    "%autoreload 2"
   ]
  },
  {
   "cell_type": "code",
   "execution_count": 6,
   "metadata": {},
   "outputs": [
    {
     "name": "stdout",
     "output_type": "stream",
     "text": [
      "number of users: 943, number of items: 1682\n",
      "matrix sparsity: 0.936953\n"
     ]
    }
   ],
   "source": [
    "data, num_users, num_items, sparsity = data_utils.read_data_ml100k(data_path, delimiter, col_names, url)\n",
    "\n",
    "train_data, test_data = data_utils.split_data(data, num_users, num_items, split_mode='seq-aware', test_ratio=0.1)\n",
    "\n",
    "train_users, train_items, train_scores, train_inter = data_utils.load_data(train_data, num_users, num_items, feedback='explicit')\n",
    "\n",
    "test_users, test_items, test_scores, test_inter = data_utils.load_data(test_data, num_users, num_items, feedback='explicit')"
   ]
  },
  {
   "cell_type": "code",
   "execution_count": 25,
   "metadata": {},
   "outputs": [
    {
     "data": {
      "text/plain": [
       "(1682, 943)"
      ]
     },
     "execution_count": 25,
     "metadata": {},
     "output_type": "execute_result"
    }
   ],
   "source": [
    "train_inter.shape"
   ]
  },
  {
   "cell_type": "code",
   "execution_count": 7,
   "metadata": {},
   "outputs": [],
   "source": [
    "class MyData(Dataset):\n",
    "    def __init__(self, user, item, score):\n",
    "        self.user = torch.tensor(user)\n",
    "        self.item = torch.tensor(item)\n",
    "        self.score = torch.tensor(score)\n",
    "        \n",
    "    def __getitem__(self, index):\n",
    "        return (self.user[index], self.item[index], self.score[index])\n",
    "    \n",
    "    def __len__(self):\n",
    "        return len(self.score)"
   ]
  },
  {
   "cell_type": "code",
   "execution_count": 8,
   "metadata": {},
   "outputs": [],
   "source": [
    "# Create Dataset\n",
    "train_set = MyData(np.array(train_users), np.array(train_items), np.array(train_scores))\n",
    "test_set = MyData(np.array(test_users), np.array(test_items), np.array(test_scores))"
   ]
  },
  {
   "cell_type": "code",
   "execution_count": 9,
   "metadata": {},
   "outputs": [],
   "source": [
    "# Create Dataloader\n",
    "train_iter = DataLoader(train_set, shuffle=True, batch_size=batch_size)\n",
    "test_iter = DataLoader(test_set, batch_size=batch_size)"
   ]
  },
  {
   "cell_type": "code",
   "execution_count": 10,
   "metadata": {},
   "outputs": [],
   "source": [
    "#iter(train_iter).next()"
   ]
  },
  {
   "cell_type": "code",
   "execution_count": 11,
   "metadata": {},
   "outputs": [
    {
     "name": "stdout",
     "output_type": "stream",
     "text": [
      "9.98826265335083\n"
     ]
    }
   ],
   "source": [
    "start = time.time()\n",
    "class MF(nn.Module):\n",
    "    def __init__(self, num_factors, num_users, num_items):\n",
    "        super(MF, self).__init__()\n",
    "        self.user_factors = nn.Embedding(num_users, num_factors)\n",
    "        self.item_factors = nn.Embedding(num_items, num_factors)\n",
    "        \n",
    "        nn.init.normal_(self.user_factors.weight, std=0.01)\n",
    "        nn.init.normal_(self.item_factors.weight, std=0.01)\n",
    "        \n",
    "    def forward(self, user, item):\n",
    "        return ((self.user_factors(user) * self.item_factors(item)).sum(axis=1))\n",
    "    \n",
    "    def predict(self, user, item):\n",
    "        return self.forward(user, item)\n",
    "    \n",
    "model = MF(num_factors, num_users, num_items).to(device)\n",
    "\n",
    "criterion = nn.MSELoss()\n",
    "optimizer = torch.optim.Adam(model.parameters(), lr=lr, weight_decay=wd)\n",
    "\n",
    "# Train the Model\n",
    "train_rmse = []\n",
    "test_rmse = []\n",
    "test_score_val = []\n",
    "test_score_pred = []\n",
    "for epoch in range(num_epochs):\n",
    "    train_loss = 0\n",
    "    num_train = 0\n",
    "    model.train()\n",
    "    for users, items, scores in train_iter:\n",
    "        users = users.to(device)\n",
    "        items = items.to(device)\n",
    "        scores = scores.float().to(device)\n",
    "\n",
    "        # Forward pass\n",
    "        outputs = model(users, items)\n",
    "        loss = criterion(outputs, scores)\n",
    "\n",
    "        # Backward and optimize\n",
    "        optimizer.zero_grad()\n",
    "        loss.backward()\n",
    "        optimizer.step()\n",
    "\n",
    "        train_loss += loss.item()\n",
    "        num_train += 1\n",
    "        \n",
    "    train_rmse.append(train_loss / num_train)\n",
    "    \n",
    "    model.eval()\n",
    "    test_loss = 0\n",
    "    num_test = 0\n",
    "    with torch.no_grad():\n",
    "        for users, items, scores in test_iter:\n",
    "            users = users.to(device)\n",
    "            items = items.to(device)\n",
    "            scores = scores.float().to(device)\n",
    "\n",
    "            outputs = model(users, items)\n",
    "            loss = criterion(outputs, scores)\n",
    "            \n",
    "            test_score_val.append(scores)\n",
    "            test_score_pred.append(outputs)\n",
    "            \n",
    "            test_loss += loss.item()\n",
    "            num_test += 1\n",
    "    \n",
    "    test_rmse.append(test_loss / num_test)\n",
    "end = time.time()\n",
    "print(end-start)"
   ]
  },
  {
   "cell_type": "code",
   "execution_count": 12,
   "metadata": {},
   "outputs": [
    {
     "data": {
      "image/png": "[encoded data removed]",
      "text/plain": [
       "<Figure size 432x288 with 1 Axes>"
      ]
     },
     "metadata": {},
     "output_type": "display_data"
    }
   ],
   "source": [
    "gain = 1\n",
    "helper_utils.plot_error([x*gain for x in train_rmse], test_rmse, num_epochs)"
   ]
  },
  {
   "cell_type": "code",
   "execution_count": 13,
   "metadata": {},
   "outputs": [],
   "source": [
    "score_df = pd.concat([pd.Series([i for sublist in [x.tolist() for x in test_score_pred] for i in sublist ], name='pred')\n",
    "                      , pd.Series([i for sublist in [x.tolist() for x in test_score_val] for i in sublist ], name='value')], axis=1)"
   ]
  },
  {
   "cell_type": "code",
   "execution_count": null,
   "metadata": {},
   "outputs": [],
   "source": [
    "len([i for sublist in [x.tolist() for x in test_score_pred] for i in sublist ])"
   ]
  },
  {
   "cell_type": "code",
   "execution_count": 14,
   "metadata": {},
   "outputs": [
    {
     "data": {
      "image/png": "[encoded data removed]",
      "text/plain": [
       "<Figure size 432x288 with 1 Axes>"
      ]
     },
     "metadata": {},
     "output_type": "display_data"
    }
   ],
   "source": [
    "plt.hist(score_df['pred'], bins=7, ec='black', alpha=0.8, label = 'Predicted')\n",
    "plt.hist(score_df['value'], bins=5, ec='black', alpha=0.7, label = 'Real')\n",
    "plt.xlabel('Rating')\n",
    "plt.ylabel('Count')\n",
    "#plt.title('Distribution of Ratings in MovieLens 100K')\n",
    "plt.legend()\n",
    "plt.show()"
   ]
  },
  {
   "cell_type": "code",
   "execution_count": 15,
   "metadata": {},
   "outputs": [
    {
     "data": {
      "text/plain": [
       "tensor([3.3067], device='cuda:0', grad_fn=<SumBackward1>)"
      ]
     },
     "execution_count": 15,
     "metadata": {},
     "output_type": "execute_result"
    }
   ],
   "source": [
    "model.predict(torch.tensor([1]).to(device),torch.tensor([1]).to(device))"
   ]
  },
  {
   "cell_type": "code",
   "execution_count": 17,
   "metadata": {},
   "outputs": [],
   "source": [
    "score_df['diff'] = score_df.apply(lambda x: x.value - x.pred if x.value is not np.nan else 0, axis=1)"
   ]
  },
  {
   "cell_type": "code",
   "execution_count": 19,
   "metadata": {},
   "outputs": [
    {
     "data": {
      "text/plain": [
       "(array([  66.,  460., 1396., 1737.,  821.,  193.,   42.]),\n",
       " array([-3.50392008, -2.35775186, -1.21158365, -0.06541543,  1.08075278,\n",
       "         2.226921  ,  3.37308921,  4.51925743]),\n",
       " <BarContainer object of 7 artists>)"
      ]
     },
     "execution_count": 19,
     "metadata": {},
     "output_type": "execute_result"
    },
    {
     "data": {
      "image/png": "[encoded data removed]",
      "text/plain": [
       "<Figure size 432x288 with 1 Axes>"
      ]
     },
     "metadata": {},
     "output_type": "display_data"
    }
   ],
   "source": [
    "plt.hist(score_df['diff'], bins=7, ec='black', alpha=0.8, label = 'Predicted')"
   ]
  },
  {
   "cell_type": "code",
   "execution_count": null,
   "metadata": {},
   "outputs": [],
   "source": []
  }
 ],
 "metadata": {
  "kernelspec": {
   "display_name": "conda_pytorch_p36",
   "language": "python",
   "name": "conda_pytorch_p36"
  },
  "language_info": {
   "codemirror_mode": {
    "name": "ipython",
    "version": 3
   },
   "file_extension": ".py",
   "mimetype": "text/x-python",
   "name": "python",
   "nbconvert_exporter": "python",
   "pygments_lexer": "ipython3",
   "version": "3.6.13"
  }
 },
 "nbformat": 4,
 "nbformat_minor": 4
}
