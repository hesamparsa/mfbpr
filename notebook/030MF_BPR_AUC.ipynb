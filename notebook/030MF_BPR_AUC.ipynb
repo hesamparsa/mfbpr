{
 "cells": [
  {
   "cell_type": "code",
   "execution_count": 1,
   "metadata": {},
   "outputs": [],
   "source": [
    "import urllib.request\n",
    "import zipfile\n",
    "import pandas as pd\n",
    "import numpy as np\n",
    "import os\n",
    "import sys\n",
    "import torch\n",
    "from torchmetrics.functional import *\n",
    "import torch.nn as nn\n",
    "import time\n",
    "from torch.utils.data import Dataset, DataLoader, TensorDataset\n",
    "import matplotlib.pyplot as plt\n",
    "import math\n",
    "import random"
   ]
  },
  {
   "cell_type": "code",
   "execution_count": 2,
   "metadata": {},
   "outputs": [],
   "source": [
    "pd.set_option('display.max_rows',500)"
   ]
  },
  {
   "cell_type": "code",
   "execution_count": 3,
   "metadata": {},
   "outputs": [],
   "source": [
    "module_path = \"...\"\n",
    "if module_path not in sys.path:\n",
    "    sys.path.append(module_path)"
   ]
  },
  {
   "cell_type": "code",
   "execution_count": 4,
   "metadata": {},
   "outputs": [],
   "source": [
    "from script import data_utils, helper_utils"
   ]
  },
  {
   "cell_type": "code",
   "execution_count": 5,
   "metadata": {},
   "outputs": [],
   "source": [
    "data_path = module_path + '/data/ml-100k/'\n",
    "delimiter ='\\t'\n",
    "col_names=['user_id', 'item_id', 'rating', 'timestamp']\n",
    "url = 'http://files.grouplens.org/datasets/movielens/ml-100k.zip'  "
   ]
  },
  {
   "cell_type": "code",
   "execution_count": 6,
   "metadata": {},
   "outputs": [],
   "source": [
    "%load_ext autoreload\n",
    "%autoreload 2"
   ]
  },
  {
   "cell_type": "code",
   "execution_count": 7,
   "metadata": {},
   "outputs": [],
   "source": [
    "device = torch.device('cuda' if torch.cuda.is_available() else 'cpu')"
   ]
  },
  {
   "cell_type": "code",
   "execution_count": 8,
   "metadata": {},
   "outputs": [
    {
     "name": "stdout",
     "output_type": "stream",
     "text": [
      "number of users: 943, number of items: 1682\n",
      "matrix sparsity: 0.936953\n"
     ]
    }
   ],
   "source": [
    "data, num_users, num_items, sparsity = data_utils.read_data_ml100k(data_path, delimiter, col_names, url)\n",
    "\n",
    "train_data, test_data = data_utils.split_data(data, num_users, num_items, split_mode='seq-aware', test_ratio=0.1)\n",
    "\n",
    "users_train, items_train, ratings_train, candidates = data_utils.load_data(train_data, num_users, num_items, feedback='implicit')\n",
    "\n",
    "users_test, items_test, ratings_test, test_iter_val = data_utils.load_data(test_data, num_users, num_items, feedback='implicit')"
   ]
  },
  {
   "cell_type": "code",
   "execution_count": 10,
   "metadata": {},
   "outputs": [],
   "source": [
    "class PRDataset(Dataset):\n",
    "    def __init__(self, users, items, candidates, num_items):\n",
    "        self.users = users\n",
    "        self.items = items\n",
    "        self.cand = candidates\n",
    "        self.all = set([i for i in range(num_items)])\n",
    "        \n",
    "    def __len__(self):\n",
    "        return len(self.users)\n",
    "    \n",
    "    def __getitem__(self, idx):\n",
    "        neg_items = list(self.all - set(self.cand[int(self.users[idx])]))\n",
    "        indices = random.randint(0, len(neg_items) - 1)\n",
    "        return self.users[idx], self.items[idx], neg_items[indices]"
   ]
  },
  {
   "cell_type": "code",
   "execution_count": 11,
   "metadata": {},
   "outputs": [],
   "source": [
    "# Create Dataset\n",
    "train_set = PRDataset(users_train, items_train, candidates, num_items)\n",
    "test_set = PRDataset(users_test, items_test, test_iter_val, num_items)"
   ]
  },
  {
   "cell_type": "code",
   "execution_count": 12,
   "metadata": {},
   "outputs": [],
   "source": [
    "# Create Dataloader\n",
    "batch_size = 1024\n",
    "train_iter = DataLoader(train_set, shuffle=True, batch_size=batch_size)\n",
    "test_iter = DataLoader(test_set, batch_size=batch_size)"
   ]
  },
  {
   "cell_type": "code",
   "execution_count": 13,
   "metadata": {},
   "outputs": [
    {
     "data": {
      "text/plain": [
       "[tensor([536,   9,  27,  ..., 134, 724,  55]),\n",
       " tensor([962, 474, 229,  ...,  54, 878,   0]),\n",
       " tensor([1572,  536, 1292,  ...,  429, 1413,  856])]"
      ]
     },
     "execution_count": 13,
     "metadata": {},
     "output_type": "execute_result"
    }
   ],
   "source": [
    "iter(train_iter).next()"
   ]
  },
  {
   "cell_type": "code",
   "execution_count": 14,
   "metadata": {},
   "outputs": [],
   "source": [
    "# Create Dataloader\n",
    "class BPRLoss(nn.Module):\n",
    "    def __init__(self, **kwargs):\n",
    "        super(BPRLoss, self).__init__( **kwargs)\n",
    "\n",
    "    def forward(self, positive, negative):\n",
    "        distances = (positive - negative)\n",
    "        loss = -torch.sum(torch.log(torch.sigmoid(distances)), 0, keepdims=True)\n",
    "        return loss"
   ]
  },
  {
   "cell_type": "code",
   "execution_count": 15,
   "metadata": {},
   "outputs": [],
   "source": [
    "class MF(nn.Module):\n",
    "    def __init__(self, num_factors, num_users, num_items):\n",
    "        super(MF, self).__init__()\n",
    "        self.user_factors = nn.Embedding(num_users, num_factors)\n",
    "        self.item_factors = nn.Embedding(num_items, num_factors)\n",
    "        \n",
    "        nn.init.normal_(self.user_factors.weight, std=0.01)\n",
    "        nn.init.normal_(self.item_factors.weight, std=0.01)\n",
    "        \n",
    "    def forward(self, user, item):\n",
    "        return ((self.user_factors(user) * self.item_factors(item)).sum(axis=1))\n",
    "    \n",
    "    def predict(self, user, item):\n",
    "        return self.forward(user, item)\n",
    "\n",
    "lr, num_epochs, wd, optimizer = 0.01, 8, 1e-5, 'adam'\n",
    "model = MF(10, num_users, num_items).to(device)\n",
    "loss = BPRLoss()\n",
    "optimizer = torch.optim.Adam(model.parameters(), lr=lr, weight_decay=wd) "
   ]
  },
  {
   "cell_type": "code",
   "execution_count": 16,
   "metadata": {},
   "outputs": [
    {
     "name": "stdout",
     "output_type": "stream",
     "text": [
      "0 tensor([53241.5430], device='cuda:0', grad_fn=<AddBackward0>) tensor([474.2846], device='cuda:0')\n",
      "1 tensor([29051.7656], device='cuda:0', grad_fn=<AddBackward0>) tensor([397.5166], device='cuda:0')\n",
      "2 tensor([23844.8867], device='cuda:0', grad_fn=<AddBackward0>) tensor([391.2307], device='cuda:0')\n",
      "3 tensor([21532.6914], device='cuda:0', grad_fn=<AddBackward0>) tensor([346.8315], device='cuda:0')\n",
      "4 tensor([20240.6074], device='cuda:0', grad_fn=<AddBackward0>) tensor([363.7806], device='cuda:0')\n",
      "5 tensor([19273.3145], device='cuda:0', grad_fn=<AddBackward0>) tensor([379.0472], device='cuda:0')\n",
      "6 tensor([18215.1836], device='cuda:0', grad_fn=<AddBackward0>) tensor([375.9496], device='cuda:0')\n",
      "7 tensor([17623.7500], device='cuda:0', grad_fn=<AddBackward0>) tensor([409.3091], device='cuda:0')\n"
     ]
    }
   ],
   "source": [
    "train_loss_list = []\n",
    "test_loss_list = []\n",
    "for epoch in range(num_epochs):\n",
    "    model.train()\n",
    "    train_l=0\n",
    "    for i, values in enumerate(train_iter):\n",
    "        input_data = []\n",
    "        for v in values:\n",
    "            input_data.append(v.to(device)) #you should load here to GPU's if you have more than 1 GPU\n",
    "            \n",
    "        p_pos = [model(torch.tensor([t[0]]).cuda(), torch.tensor([t[1]]).cuda()) for t in zip(*input_data[0:-1])]\n",
    "        p_neg = [model(torch.tensor([t[0]]).cuda(), torch.tensor([t[1]]).cuda()) for t in zip(*input_data[0:-2], input_data[-1])] \n",
    "        ls = [loss(p, n) for p, n in zip(p_pos, p_neg)]\n",
    "        optimizer.zero_grad()\n",
    "        [l.backward(retain_graph=False) for l in ls]\n",
    "        train_l += sum([l for l in ls])  #you should normalize by the number of devices if you have more than 1 GPU\n",
    "        optimizer.step()\n",
    "    train_loss_list.append(train_l)\n",
    "    model.eval()\n",
    "    test_l = 0\n",
    "    with torch.no_grad():\n",
    "        for i, values in enumerate(test_iter):\n",
    "            input_data = []\n",
    "            for v in values:\n",
    "                input_data.append(v.to(device)) #you should load here to GPU's if you have more than 1 GPU\n",
    "\n",
    "            p_pos = [model(torch.tensor([t[0]]).cuda(), torch.tensor([t[1]]).cuda()) for t in zip(*input_data[0:-1])]\n",
    "            p_neg = [model(torch.tensor([t[0]]).cuda(), torch.tensor([t[1]]).cuda()) for t in zip(*input_data[0:-2], input_data[-1])] \n",
    "            ls = [loss(p, n) for p, n in zip(p_pos, p_neg)]\n",
    "            test_l += sum([l for l in ls])  #you should normalize by the number of devices if you have more than 1 GPU\n",
    "        test_loss_list.append(test_l)\n",
    "\n",
    "    print(epoch, train_l, test_l)\n"
   ]
  },
  {
   "cell_type": "code",
   "execution_count": 17,
   "metadata": {},
   "outputs": [
    {
     "data": {
      "image/png": "[encoded data removed]",
      "text/plain": [
       "<Figure size 432x288 with 1 Axes>"
      ]
     },
     "metadata": {},
     "output_type": "display_data"
    }
   ],
   "source": [
    "# Here we normalized the training error by the number of samples in each training and test bucket\n",
    "gain=len(test_set)/len(train_set)\n",
    "helper_utils.plot_error([x.cpu().detach().numpy()*gain for x in train_loss_list], \n",
    "                        [x.cpu().detach().numpy() for x in test_loss_list], num_epochs=num_epochs)"
   ]
  },
  {
   "cell_type": "markdown",
   "metadata": {},
   "source": [
    "## Evaluate Model output using AUC and hit@50\n",
    "hit@50 = 27% and AUC = 83%"
   ]
  },
  {
   "cell_type": "code",
   "execution_count": 24,
   "metadata": {},
   "outputs": [],
   "source": [
    "def hit_and_auc(rankedlist, test_matrix, k):\n",
    "    hits_k = [(idx, val) for idx, val in enumerate(rankedlist[:k]) if val in set(test_matrix)]\n",
    "    hits_all = [(idx, val) for idx, val in enumerate(rankedlist) if val in set(test_matrix)]\n",
    "    maxx = len(rankedlist) - 1\n",
    "    auc = 1.0 * (maxx - hits_all[0][0]) / maxx if len(hits_all) > 0 else 0\n",
    "    return len(hits_k), auc\n",
    "\n",
    "\n",
    "def evaluate_ranking(net, test_input, seq, candidates, num_users, num_items, devices):\n",
    "    ranked_list, ranked_items, hit_rate, auc = {}, {}, [], []\n",
    "    all_items = set([i for i in range(num_items)]) #it was originally #users, shouldnt it be num_items?\n",
    "    for u in range(num_users):\n",
    "        neg_items = list(all_items - set(candidates[int(u)]))\n",
    "        user_ids, item_ids, x, scores = [], [], [], []\n",
    "        [item_ids.append(i) for i in neg_items]\n",
    "        [user_ids.append(u) for _ in neg_items]\n",
    "        x.extend([np.array(user_ids)])\n",
    "        if seq is not None:\n",
    "            x.append(seq[user_ids, :])\n",
    "        x.extend([np.array(item_ids)])\n",
    "        x=[torch.Tensor(data).long() for data in x]\n",
    "        test_data_iter = DataLoader(TensorDataset(*x), shuffle=False, batch_size=1024)\n",
    "        for uu, ii in (test_data_iter):\n",
    "            scores.extend((net(uu.to(device), ii.to(device))))\n",
    "        #scores = [item for sublist in scores for item in sublist]\n",
    "        item_scores = list(zip(item_ids, scores))\n",
    "        ranked_list[u] = sorted(item_scores, key=lambda t: t[1], reverse=True)\n",
    "        ranked_items[u] = [r[0] for r in ranked_list[u]]\n",
    "        temp = hit_and_auc(ranked_items[u], test_input[u], 50)\n",
    "        hit_rate.append(temp[0])\n",
    "        auc.append(temp[1])\n",
    "    return np.mean(np.array(hit_rate)), np.mean(np.array(auc))"
   ]
  },
  {
   "cell_type": "code",
   "execution_count": 25,
   "metadata": {},
   "outputs": [],
   "source": [
    "hit_rate, auc = evaluate_ranking(model, test_iter_val, None, candidates, num_users, num_items,device)"
   ]
  },
  {
   "cell_type": "code",
   "execution_count": 26,
   "metadata": {},
   "outputs": [
    {
     "name": "stdout",
     "output_type": "stream",
     "text": [
      "0.32873806998939553 0.8711254558813524\n"
     ]
    }
   ],
   "source": [
    "print(hit_rate, auc)"
   ]
  },
  {
   "cell_type": "code",
   "execution_count": 27,
   "metadata": {},
   "outputs": [
    {
     "name": "stdout",
     "output_type": "stream",
     "text": [
      "['user_factors.weight', 9430]\n",
      "['item_factors.weight', 16820]\n",
      "Total Trainable Params: 26250\n"
     ]
    },
    {
     "data": {
      "text/plain": [
       "26250"
      ]
     },
     "execution_count": 27,
     "metadata": {},
     "output_type": "execute_result"
    }
   ],
   "source": [
    "def count_parameters(model):\n",
    "    total_params = 0\n",
    "    for name, parameter in model.named_parameters():\n",
    "        if not parameter.requires_grad: continue\n",
    "        param = parameter.numel()\n",
    "        print([name, param])\n",
    "        total_params+=param\n",
    "    print(f\"Total Trainable Params: {total_params}\")\n",
    "    return total_params\n",
    "    \n",
    "count_parameters(model)"
   ]
  }
 ],
 "metadata": {
  "kernelspec": {
   "display_name": "conda_pytorch_p36",
   "language": "python",
   "name": "conda_pytorch_p36"
  },
  "language_info": {
   "codemirror_mode": {
    "name": "ipython",
    "version": 3
   },
   "file_extension": ".py",
   "mimetype": "text/x-python",
   "name": "python",
   "nbconvert_exporter": "python",
   "pygments_lexer": "ipython3",
   "version": "3.6.13"
  }
 },
 "nbformat": 4,
 "nbformat_minor": 4
}
